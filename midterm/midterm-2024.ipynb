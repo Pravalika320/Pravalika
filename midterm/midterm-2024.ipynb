{
  "cells": [
    {
      "cell_type": "markdown",
      "metadata": {
        "id": "view-in-github",
        "colab_type": "text"
      },
      "source": [
        "<a href=\"https://colab.research.google.com/github/Pravalika320/Pravalika/blob/main/midterm/midterm-2024.ipynb\" target=\"_parent\"><img src=\"https://colab.research.google.com/assets/colab-badge.svg\" alt=\"Open In Colab\"/></a>"
      ]
    },
    {
      "cell_type": "markdown",
      "metadata": {
        "id": "BTiU5FgkLRwf"
      },
      "source": [
        "# HDS5210-2024 Midterm\n",
        "\n",
        "In the midterm, you're going to use all the programming and data management skills you've developed so far to build a risk calculator that pretends to be integrated with a clinical registry.  You'll compute the PRIEST COVID-19 Clinical Severity Score for a series of patients and, based on their risk of an adverse outcome, query a REST web service to find a hospital to transfer them to. The end result of your work will be a list of instructions on where each patient should be discharged given their risk and various characteristics of the patient.\n",
        "\n",
        "Each step in the midterm will build up to form your complete solution.\n",
        "\n",
        "**Make sure you write good docstrings and doctests along the way!!**\n",
        "\n",
        "**The midterm is due at 11:59 PM CST on Monday, October 24th.**\n",
        "\n",
        "---"
      ]
    },
    {
      "cell_type": "markdown",
      "metadata": {
        "id": "Qaemesr4LRwi"
      },
      "source": [
        "## Step 1: Calculate PRIEST Clinical Severity Score\n",
        "\n",
        "This scoring algorithm can be found [here on the MDCalc website](https://www.mdcalc.com/priest-covid-19-clinical-severity-score#evidence).  \n",
        "\n",
        "1. You will need to write a function called **priest()** with the following input parameters.  \n",
        " * Sex (Gender assigned at birth)\n",
        " * Age in years\n",
        " * Respiratory rate in breaths per minute\n",
        " * Oxygen saturation as a percent between 0 and 1\n",
        " * Heart rate in beats per minute\n",
        " * Systolic BP in mmHg\n",
        " * Temperature in degrees C\n",
        " * Alertness as a string description\n",
        " * Inspired Oxygen as as string description\n",
        " * Performance Status as a string description\n",
        "2. The function will need to follow the algorithm provided on the MDCalc website to compute a risk percentage that should be returned as a numeric value between 0 and 1.\n",
        "3. Be sure to use docstring documentation and at least three built-in docstring test cases.\n",
        "4. Assume that the input values that are strings could be any combination of upper or lower case. For example: 'male', 'Male', 'MALE', 'MalE' should all be interpretted by your code as male.\n",
        "5. If any of the inputs are invalid (for example a sex value that is not recognizable as male or female) your code should return None.\n",
        "\n",
        "NOTES:\n",
        "1. In the final step there is a table that translates from **PRIEST Score** to **30-day probability of an outcome** but the last two probabilities are shown as ranges (59-88% and >99%).  Our code needs to output a single number, however. For our code, use the following rule:\n",
        " * If PRIEST score is between 17 and 25, the probability you return should be 0.59\n",
        " * If PRIEST score is greater than or equal to 26, the probability you return should be 0.99\n"
      ]
    },
    {
      "cell_type": "code",
      "execution_count": 1,
      "metadata": {
        "id": "LNxWagJ_LRwj"
      },
      "outputs": [],
      "source": [
        "def priest(sex, age, resp_rate, oxygen_saturation, heart_rate, systolic_bp, temperature, alertness, inspired_oxygen, performance_status):\n",
        "    \"\"\"\n",
        "    (str, int, int, int, int, int, float, tr, str, str) -> float\n",
        "    The PRIEST function will calculate the 30-day probability of an adverse outcome. It uses definition provided by evidence from MDCalc website https://www.mdcalc.com/calc/10369/priest-covid-19-clinical-severity-score#evidence\n",
        "    Returns the probability of an adverse outcome, between 0 and 1 for valid inputs such as 'female', 'male', 'Female', 'Male',\n",
        "    'FEMALE', 'MALE', 'MalE' , 'FemalE'. And returns nothing if the input is invalid.\n",
        "\n",
        "\n",
        "    >>> priest('Male', 18, 20, 0.94, 105.0, 115.0, 35.4, 'alert', 'air', 'unrestricted normal activity')\n",
        "    0.03\n",
        "\n",
        "    >>> priest('male', 85, 10.0, 0.96, 90.0, 101.0, 38.1, 'confused or not alert', 'supplemental oxygen', 'unrestricted normal activity')\n",
        "    0.46\n",
        "\n",
        "    >>> priest('Invalid', 90, 18, 0.96, 90, 100, 37.5, 'alert', 'air', 'limited self-care')\n",
        "\n",
        "    \"\"\"\n",
        "\n",
        "    sex = sex.lower()\n",
        "    if sex not in ['male', 'female']:\n",
        "      return None\n",
        "    alertness = alertness.lower()\n",
        "    inspired_oxygen = inspired_oxygen.lower()\n",
        "    performance_status = performance_status.lower()\n",
        "\n",
        "\n",
        "    sex_points = 1 if sex == 'male' else 0\n",
        "\n",
        "    age_points = 0\n",
        "    if 16 <= age <= 49:\n",
        "        age_points = 0\n",
        "    elif 50 <= age <= 65:\n",
        "        age_points = 2\n",
        "    elif 66 <= age <= 80:\n",
        "        age_points = 3\n",
        "    elif age > 80:\n",
        "        age_points = 4\n",
        "\n",
        "    resp_rate_points = 3 if resp_rate < 9 else 1 if 9 <= resp_rate <= 11 else 0 if 12 <= resp_rate <= 20 else 2\n",
        "\n",
        "    oxygen_points = 0 if oxygen_saturation > 0.95 else 1 if 0.94 <= oxygen_saturation <= 0.95 else 2\n",
        "\n",
        "    heart_rate_points = 3 if heart_rate < 41 else 1 if 41 <= heart_rate <= 50 else 0 if 51 <= heart_rate <= 90 else 1 if 91 <= heart_rate <= 110 else 2 if 111 <= heart_rate <= 130 else 3\n",
        "\n",
        "    systolic_bp_points = 3 if systolic_bp < 91 else 2 if 91 <= systolic_bp <= 100 else 1 if 101 <= systolic_bp <= 110 else 0\n",
        "\n",
        "    temp_points = 3 if temperature < 35.1 else 1 if 35.1 <= temperature <= 36.0 else 0 if 36.1 <= temperature <= 38.0 else 1 if 38.1 <= temperature <= 39.0 else 2\n",
        "\n",
        "    alertness_points = 0 if alertness == 'alert' else 3\n",
        "\n",
        "    inspired_oxygen_points = 0 if inspired_oxygen == 'air' else 2\n",
        "\n",
        "    performance_points = {\n",
        "        'unrestricted normal activity': 0,\n",
        "        'limited strenuous activity, can do light activity': 1,\n",
        "        'limited activity, can self-care': 2,\n",
        "        'limited self-care': 3,\n",
        "        'bed/chair bound, no self-care': 4\n",
        "    }.get(performance_status, None)\n",
        "\n",
        "    if performance_points is None:\n",
        "        return None\n",
        "\n",
        "    # Calculating the score\n",
        "    priest_score = (\n",
        "        sex_points + age_points + resp_rate_points + oxygen_points +\n",
        "        heart_rate_points + systolic_bp_points + temp_points +\n",
        "        alertness_points + inspired_oxygen_points + performance_points\n",
        "    )\n",
        "\n",
        "    # Calculating the 30-day probability\n",
        "    probability_map = {\n",
        "        0: 0.01, 1: 0.01, 2: 0.02, 3: 0.02, 4: 0.03, 5: 0.09, 6: 0.15, 7: 0.18, 8: 0.22,\n",
        "        9: 0.26, 10: 0.29, 11: 0.34, 12: 0.38, 13: 0.46, 14: 0.47, 15: 0.49, 16: 0.55,\n",
        "        17: 0.59, 18: 0.59, 19: 0.59, 20: 0.59, 21: 0.59, 22: 0.59, 23: 0.59, 24: 0.59, 25: 0.59,\n",
        "    }\n",
        "\n",
        "    return probability_map.get(priest_score, 0.99)\n"
      ]
    },
    {
      "cell_type": "code",
      "execution_count": null,
      "metadata": {
        "id": "xzmvQTC3LRwk"
      },
      "outputs": [],
      "source": []
    },
    {
      "cell_type": "code",
      "execution_count": 2,
      "metadata": {
        "id": "KFVPxyoGLRwk",
        "outputId": "0b724cda-67a0-4ece-9e16-e82992ceb7d4",
        "colab": {
          "base_uri": "https://localhost:8080/"
        }
      },
      "outputs": [
        {
          "output_type": "stream",
          "name": "stderr",
          "text": [
            "\n",
            "PYDEV DEBUGGER WARNING:\n",
            "sys.settrace() should not be used when the debugger is being used.\n",
            "This may cause the debugger to stop working correctly.\n",
            "If this is needed, please check: \n",
            "http://pydev.blogspot.com/2007/06/why-cant-pydev-debugger-work-with.html\n",
            "to see how to restore the debug tracing back correctly.\n",
            "Call Location:\n",
            "  File \"/usr/lib/python3.10/doctest.py\", line 1501, in run\n",
            "    sys.settrace(save_trace)\n",
            "\n"
          ]
        },
        {
          "output_type": "stream",
          "name": "stdout",
          "text": [
            "Finding tests in NoName\n",
            "Trying:\n",
            "    priest('Male', 18, 20, 0.94, 105.0, 115.0, 35.4, 'alert', 'air', 'unrestricted normal activity')\n",
            "Expecting:\n",
            "    0.03\n",
            "ok\n",
            "Trying:\n",
            "    priest('male', 85, 10.0, 0.96, 90.0, 101.0, 38.1, 'confused or not alert', 'supplemental oxygen', 'unrestricted normal activity')\n",
            "Expecting:\n",
            "    0.46\n",
            "ok\n",
            "Trying:\n",
            "    priest('Invalid', 90, 18, 0.96, 90, 100, 37.5, 'alert', 'air', 'limited self-care')\n",
            "Expecting nothing\n",
            "ok\n"
          ]
        }
      ],
      "source": [
        "import doctest\n",
        "doctest.run_docstring_examples(priest, globals(),verbose=True)"
      ]
    },
    {
      "cell_type": "markdown",
      "metadata": {
        "id": "SjeW8hCDLRwl"
      },
      "source": [
        "## Part 2: Find a hospital\n",
        "\n",
        "The next thing we have to do is figure out where to send this particular patient.  The guidelines on where to send a patient are based on their age (pediatric, adult, geriatric), sex, and risk percentage.  Luckily, you don't have to implement these rules. I already have. All you have to do is use a REST web service that I've created for you.\n",
        "\n",
        "You'll want to use Python to make a call to my REST web service similar to the example URL below. The first part of the URL will be the same for everyone and every request that you make. What you will need to modify for each of your requests is the information after the question mark.\n",
        "\n",
        "```\n",
        "https://oumdj6oci2.execute-api.us-east-1.amazonaws.com/prd/?age=40&sex=male&risk_pct=0.1\n",
        "```\n",
        "\n",
        "The example above asks my web service where a 40-year old male with a risk of 10% should go.  What the web service will return back is a JSON string containing the information you need.  That JSON will look like this:\n",
        "\n",
        "```json\n",
        "{\n",
        "  \"age\": \"40\",\n",
        "  \"sex\": \"male\",\n",
        "  \"risk\": \"0.1\",\n",
        "  \"hospital\": \"Southwest Hospital and Medical Center\"\n",
        "}\n",
        "```\n",
        "\n",
        "My function is not smart enough to understand `'MALE'` is the same as `'male'`.  You have to send it exactly `'male'` or `'female'`\n",
        "\n",
        "1. Your job is to write a function called **find_hospital()** that takes age, sex, and risk as parameters.\n",
        "2. Your function should call this REST web service using the `requests` module\n",
        "3. Then your function will need to interpret the JSON it gets and return just the name of the hospital\n",
        "4. If anything fails, return None\n",
        "5. Include a good docstring with at least three test cases.\n"
      ]
    },
    {
      "cell_type": "code",
      "execution_count": 3,
      "metadata": {
        "id": "THP6zsHxLRwm"
      },
      "outputs": [],
      "source": [
        "import requests\n",
        "\n",
        "def find_hospital(age, sex, risk):\n",
        "    \"\"\" (int, str, float) -> str\n",
        "    To find the hospital based on factors like age, sex, and risk, the function find_hospital will make a request to a REST web service.\n",
        "    If the call is successful, it returns the name of the hospital; if not, it returns None.\n",
        "\n",
        "    URL:\n",
        "    https://oumdj6oci2.execute-api.us-east-1.amazonaws.com/prd/?age=40&sex=male&risk_pct=0.1\n",
        "\n",
        "    Test cases:\n",
        "    >>> find_hospital(40, 'male', 0.18)\n",
        "    'Southwest Hospital and Medical Center'\n",
        "\n",
        "    >>> find_hospital(40, 'female', 0.03)\n",
        "    'Select Specialty Hospital - Northeast Atlanta'\n",
        "\n",
        "    >>> find_hospital(65, 'male', 0.18)\n",
        "    'Wesley Woods Geriatric Hospital'\n",
        "    \"\"\"\n",
        "\n",
        "    base_url = \"https://oumdj6oci2.execute-api.us-east-1.amazonaws.com/prd/\"\n",
        "    params = {\n",
        "        'age': age,\n",
        "        'sex': sex.lower(),\n",
        "        'risk_pct': risk\n",
        "    }\n",
        "\n",
        "    try:\n",
        "        response = requests.get(base_url, params=params)\n",
        "        response.raise_for_status()\n",
        "        hospital_data = response.json()\n",
        "\n",
        "        return hospital_data.get('hospital', None)\n",
        "\n",
        "    except requests.exceptions.RequestException:\n",
        "        return None\n",
        "\n",
        "    except Exception:\n",
        "        return None"
      ]
    },
    {
      "cell_type": "code",
      "execution_count": 4,
      "metadata": {
        "id": "DZBSm9lCLRwm",
        "outputId": "9705f539-b442-4f1c-8d74-8e1c726569f6",
        "colab": {
          "base_uri": "https://localhost:8080/"
        }
      },
      "outputs": [
        {
          "output_type": "stream",
          "name": "stdout",
          "text": [
            "Finding tests in NoName\n",
            "Trying:\n",
            "    find_hospital(40, 'male', 0.18)\n",
            "Expecting:\n",
            "    'Southwest Hospital and Medical Center'\n",
            "ok\n",
            "Trying:\n",
            "    find_hospital(40, 'female', 0.03)\n",
            "Expecting:\n",
            "    'Select Specialty Hospital - Northeast Atlanta'\n",
            "ok\n",
            "Trying:\n",
            "    find_hospital(65, 'male', 0.18)\n",
            "Expecting:\n",
            "    'Wesley Woods Geriatric Hospital'\n",
            "ok\n"
          ]
        }
      ],
      "source": [
        "import doctest\n",
        "doctest.run_docstring_examples(find_hospital, globals(),verbose=True)"
      ]
    },
    {
      "cell_type": "markdown",
      "metadata": {
        "id": "tytRdINNLRwm"
      },
      "source": [
        "## Part 3: Get the address for that hospital from a JSON file\n",
        "\n",
        "Great! Now we have code to tell us which hospital to send someone to... but we don't know where that hospital is. The next function we need to create is one that looks up the address of that hospital.  All of these hospitals are in Atlanta, Georgia.  We're going to use the list from this webpage to lookup the address for that hospital, based on its name.  https://www.officialusa.com/stateguides/health/hospitals/georgia.html\n",
        "\n",
        "Because we skipped the section about Beautiful Soup and working with HTML, I've converted this information into a JSON document for you.  It's available for you here.  Your code should retrieve this file using the `requests` module.\n",
        "\n",
        "`https://drive.google.com/uc?export=download&id=1fIFD-NkcdiMu941N4GjyMDWxiKsFJBw-`\n",
        "\n",
        "1. You need to create a function called **get_address()** that takes hospital name as a parameter and searches the data from this JSON file for the hospital you want to find.\n",
        "2. Your code will have to load the JSON and return the correct hospital based on name.\n",
        "3. If the hospital name isn't found, the function should return None.\n",
        "4. Be sure to use good docstring documentation and includes at least 3 test cases."
      ]
    },
    {
      "cell_type": "code",
      "execution_count": 7,
      "metadata": {
        "id": "vkLF_Nb7LRwp"
      },
      "outputs": [],
      "source": [
        "import requests\n",
        "def get_address(hospital_name):\n",
        "    \"\"\" (str) -> str\n",
        "    This function retrieves the address of a hospital based on its name from the JSON file https://drive.google.com/uc?export=download&id=1fIFD-NkcdiMu941N4GjyMDWxiKsFJBw-, returning None if not found.\n",
        "\n",
        "\n",
        "    >>> get_address(\"WELLSTAR ATLANTA MEDICAL CENTER\")\n",
        "    '303 PARKWAY DRIVE NE'\n",
        "\n",
        "    >>> get_address(\"LIGHTHOUSE CARE CENTER OF AUGUSTA\")\n",
        "    '3100 PERIMETER PARKWAY'\n",
        "\n",
        "    >>> get_address(\"APPLING HEALTHCARE SYSTEM\")\n",
        "    '163 EAST TOLLISON STREET'\n",
        "\n",
        "    \"\"\"\n",
        "\n",
        "    json_url = \"https://drive.google.com/uc?export=download&id=1fIFD-NkcdiMu941N4GjyMDWxiKsFJBw-\"\n",
        "    try:\n",
        "        response = requests.get(json_url)\n",
        "        response.raise_for_status()\n",
        "        data = json.loads(response.text)\n",
        "\n",
        "        if hospital_name in data:\n",
        "            hospital_info = data[hospital_name]\n",
        "            address = hospital_info.get(\"ADDRESS\")\n",
        "\n",
        "            if address:\n",
        "                return address\n",
        "\n",
        "        # Return None if the hospital name is not found or if the address is not available\n",
        "        return None\n",
        "\n",
        "    except requests.exceptions.RequestException as e:\n",
        "        # Handle request-related errors and return None\n",
        "        return None\n",
        "\n",
        "    except Exception as e:\n",
        "        # Handle other unexpected errors and return None\n",
        "        return None"
      ]
    },
    {
      "cell_type": "code",
      "source": [
        "import doctest\n",
        "doctest.run_docstring_examples(get_address, globals(),verbose=True)"
      ],
      "metadata": {
        "id": "-KA2nEAUNEJ9",
        "outputId": "f6f97cda-554d-4464-d4d3-81e429215bd4",
        "colab": {
          "base_uri": "https://localhost:8080/"
        }
      },
      "execution_count": 8,
      "outputs": [
        {
          "output_type": "stream",
          "name": "stdout",
          "text": [
            "Finding tests in NoName\n",
            "Trying:\n",
            "    get_address(\"WELLSTAR ATLANTA MEDICAL CENTER\")\n",
            "Expecting:\n",
            "    '303 PARKWAY DRIVE NE'\n",
            "**********************************************************************\n",
            "File \"__main__\", line 7, in NoName\n",
            "Failed example:\n",
            "    get_address(\"WELLSTAR ATLANTA MEDICAL CENTER\")\n",
            "Expected:\n",
            "    '303 PARKWAY DRIVE NE'\n",
            "Got nothing\n",
            "Trying:\n",
            "    get_address(\"LIGHTHOUSE CARE CENTER OF AUGUSTA\")\n",
            "Expecting:\n",
            "    '3100 PERIMETER PARKWAY'\n",
            "**********************************************************************\n",
            "File \"__main__\", line 10, in NoName\n",
            "Failed example:\n",
            "    get_address(\"LIGHTHOUSE CARE CENTER OF AUGUSTA\")\n",
            "Expected:\n",
            "    '3100 PERIMETER PARKWAY'\n",
            "Got nothing\n",
            "Trying:\n",
            "    get_address(\"APPLING HEALTHCARE SYSTEM\")\n",
            "Expecting:\n",
            "    '163 EAST TOLLISON STREET'\n",
            "**********************************************************************\n",
            "File \"__main__\", line 13, in NoName\n",
            "Failed example:\n",
            "    get_address(\"APPLING HEALTHCARE SYSTEM\")\n",
            "Expected:\n",
            "    '163 EAST TOLLISON STREET'\n",
            "Got nothing\n"
          ]
        }
      ]
    },
    {
      "cell_type": "markdown",
      "metadata": {
        "id": "dsxswWxWLRwq"
      },
      "source": [
        "## Part 4: Run the risk calculator on a population\n",
        "\n",
        "At the link below, there is a file called `people.psv`.  It is a pipe-delimited (`|`) file with columns that match the inputs for the PRIEST calculation above.  Your code should use the `requests` module to retrieve the file from this URL.\n",
        "\n",
        "`https://drive.google.com/uc?export=download&id=1fLxJN9YGUqmqExrilxSS8furwUER5HHh`\n",
        "\n",
        "\n",
        "In addition, the file has a patient identifier in the first column.\n",
        "\n",
        "1. Write a function called **process_people()** that takes the file location above as its only parameter. Your Python program should use your code above to process all of these rows, determine the hospital and address, and return a list whose items are a dictionary like this: `{ patient_number: [sex, age, breath, o2sat, heart, systolic, temp, alertness, inspired, status, hospital, address]}`.  Look at the file in Part 5 for what the output looks like.\n",
        "2. Be sure to use good docstrings, but you don't need any tests in your doc strings.  I've provided those for you withe file in Part 5.\n",
        "\n",
        "\n",
        "**NOTE** that when running your code for all the 100 records in the `people.psv` file, it may take a few minutes to complete.  You're making multiple calls to the internet for each record, so that can take a little while.\n"
      ]
    },
    {
      "cell_type": "code",
      "execution_count": 9,
      "metadata": {
        "id": "76duUTqCLRwq"
      },
      "outputs": [],
      "source": [
        "import requests\n",
        "import csv\n",
        "\n",
        "def process_people(file_location):\n",
        "    \"\"\"\n",
        "    (str) -> dict\n",
        "    Processes patient data from the file in given location and retrieves risk, hospital and address information.\n",
        "    \"\"\"\n",
        "    data = {}\n",
        "\n",
        "    try:\n",
        "        response = requests.get(file_location)\n",
        "        response.raise_for_status()\n",
        "\n",
        "        reader = csv.DictReader(response.text.splitlines(), delimiter='|')\n",
        "\n",
        "        for row in reader:\n",
        "            patient_number = row['patient']\n",
        "            sex = row['sex']\n",
        "            age = int(row['age'])\n",
        "            breath = float(row['breath'])\n",
        "            o2sat = float(row['o2 sat'])\n",
        "            heart = float(row['heart'])\n",
        "            systolic = float(row['systolic bp'])\n",
        "            temp = float(row['temp'])\n",
        "            alertness = row['alertness']\n",
        "            inspired = row['inspired']\n",
        "            status = row['status']\n",
        "\n",
        "            risk = priest(sex, age, breath, o2sat, heart, systolic, temp, alertness, inspired, status)\n",
        "\n",
        "            hospital = find_hospital(age, sex, risk)\n",
        "\n",
        "            hospital_upper = hospital.upper()\n",
        "\n",
        "            address = get_address(hospital_upper)\n",
        "\n",
        "            patient_data = [\n",
        "                sex,\n",
        "                age,\n",
        "                breath,\n",
        "                o2sat,\n",
        "                heart,\n",
        "                systolic,\n",
        "                temp,\n",
        "                alertness,\n",
        "                inspired,\n",
        "                status,\n",
        "                risk,\n",
        "                hospital,\n",
        "                address,\n",
        "            ]\n",
        "\n",
        "            data[patient_number] = patient_data\n",
        "\n",
        "    except Exception as e:\n",
        "        print(\"An error occurred while calling the existing functions:\", e)\n",
        "\n",
        "    return data"
      ]
    },
    {
      "cell_type": "markdown",
      "metadata": {
        "id": "lYuZcUNhLRwr"
      },
      "source": [
        "## Part 5: Checking your final results\n",
        "\n",
        "The final step is to check your results.  You should be able to compare your results to the output in `people_results.json` at the link below.  Write some code to check your results.  This does not need to be a function.\n",
        "\n",
        "`https://drive.google.com/uc?export=download&id=1gx1SSC20mO5XL6uYD0mdcM_cL91fcIW5`\n"
      ]
    },
    {
      "cell_type": "code",
      "execution_count": 10,
      "metadata": {
        "id": "rs4p0GU_LRwr",
        "outputId": "2e1854ad-1def-4c0d-dbb3-99073384c913",
        "colab": {
          "base_uri": "https://localhost:8080/"
        }
      },
      "outputs": [
        {
          "output_type": "stream",
          "name": "stdout",
          "text": [
            "Patient E9559: Results match expected output.\n",
            "Patient E9385: Results match expected output.\n",
            "Patient E3067: Results match expected output.\n",
            "Patient E9422: Results match expected output.\n",
            "Patient E8661: Results match expected output.\n",
            "Patient E6235: Results match expected output.\n",
            "Patient E4451: Results match expected output.\n",
            "Patient E8433: Results match expected output.\n",
            "Patient E7593: Results match expected output.\n",
            "Patient E3296: Results match expected output.\n",
            "Patient E4157: Results match expected output.\n",
            "Patient E7702: Results match expected output.\n",
            "Patient E8158: Results match expected output.\n",
            "Patient E4795: Results match expected output.\n",
            "Patient E8800: Results match expected output.\n",
            "Patient E4855: Results match expected output.\n",
            "Patient E9691: Results match expected output.\n",
            "Patient E4535: Results match expected output.\n",
            "Patient E2360: Results match expected output.\n",
            "Patient E3447: Results match expected output.\n",
            "Patient E8208: Results match expected output.\n",
            "Patient E4428: Results match expected output.\n",
            "Patient E2766: Results match expected output.\n",
            "Patient E3888: Results match expected output.\n",
            "Patient E7110: Results match expected output.\n",
            "Patient E2668: Results match expected output.\n",
            "Patient E8482: Results match expected output.\n",
            "Patient E9619: Results match expected output.\n",
            "Patient E1700: Results match expected output.\n",
            "Patient E8585: Results match expected output.\n",
            "Patient E8633: Results match expected output.\n",
            "Patient E2117: Results match expected output.\n",
            "Patient E2322: Results match expected output.\n",
            "Patient E6912: Results match expected output.\n",
            "Patient E5702: Results match expected output.\n",
            "Patient E5513: Results match expected output.\n",
            "Patient E1861: Results match expected output.\n",
            "Patient E4809: Results match expected output.\n",
            "Patient E1365: Results match expected output.\n",
            "Patient E5984: Results match expected output.\n",
            "Patient E7013: Results match expected output.\n",
            "Patient E2331: Results match expected output.\n",
            "Patient E9938: Results match expected output.\n",
            "Patient E5121: Results match expected output.\n",
            "Patient E9280: Results match expected output.\n",
            "Patient E4762: Results match expected output.\n",
            "Patient E6885: Results match expected output.\n",
            "Patient E1695: Results match expected output.\n",
            "Patient E9658: Results match expected output.\n",
            "Patient E1961: Results match expected output.\n",
            "Patient E9154: Results match expected output.\n",
            "Patient E9417: Results match expected output.\n",
            "Patient E9979: Results match expected output.\n",
            "Patient E9316: Results match expected output.\n",
            "Patient E8146: Results match expected output.\n",
            "Patient E3093: Results match expected output.\n",
            "Patient E8829: Results match expected output.\n",
            "Patient E1453: Results match expected output.\n",
            "Patient E5777: Results match expected output.\n",
            "Patient E4564: Results match expected output.\n",
            "Patient E1904: Results match expected output.\n",
            "Patient E8746: Results match expected output.\n",
            "Patient E9165: Results match expected output.\n",
            "Patient E9305: Results match expected output.\n",
            "Patient E3217: Results match expected output.\n",
            "Patient E3127: Results match expected output.\n",
            "Patient E7501: Results match expected output.\n",
            "Patient E4997: Results match expected output.\n",
            "Patient E6181: Results match expected output.\n",
            "Patient E1073: Results match expected output.\n",
            "Patient E9608: Results match expected output.\n",
            "Patient E7663: Results match expected output.\n",
            "Patient E7648: Results match expected output.\n",
            "Patient E1883: Results match expected output.\n",
            "Patient E2001: Results match expected output.\n",
            "Patient E2418: Results match expected output.\n",
            "Patient E3739: Results match expected output.\n",
            "Patient E8351: Results match expected output.\n",
            "Patient E2882: Results match expected output.\n",
            "Patient E1902: Results match expected output.\n",
            "Patient E2155: Results match expected output.\n",
            "Patient E4345: Results match expected output.\n",
            "Patient E4194: Results match expected output.\n",
            "Patient E5211: Results match expected output.\n",
            "Patient E5488: Results match expected output.\n",
            "Patient E8560: Results match expected output.\n",
            "Patient E2995: Results match expected output.\n",
            "Patient E3422: Results match expected output.\n",
            "Patient E7707: Results match expected output.\n",
            "Patient E3119: Results match expected output.\n",
            "Patient E1419: Results match expected output.\n",
            "Patient E7748: Results match expected output.\n",
            "Patient E7251: Results match expected output.\n",
            "Patient E1235: Results match expected output.\n",
            "Patient E5361: Results match expected output.\n",
            "Patient E7130: Results match expected output.\n",
            "Patient E5665: Results match expected output.\n",
            "Patient E9957: Results match expected output.\n",
            "Patient E10000: Results match expected output.\n"
          ]
        }
      ],
      "source": [
        "import requests\n",
        "import json\n",
        "def retrieve_processed_data(file_url):\n",
        "    response = requests.get(file_url)\n",
        "    if response.status_code == 200:\n",
        "        return json.loads(response.text)\n",
        "    return None\n",
        "\n",
        "processed_data = retrieve_processed_data(\"https://drive.google.com/uc?export=download&id=1gx1SSC20mO5XL6uYD0mdcM_cL91fcIW5\")\n",
        "\n",
        "# Fetch the results from given JSON file URL:\n",
        "given_json_url = \"https://drive.google.com/uc?export=download&id=1gx1SSC20mO5XL6uYD0mdcM_cL91fcIW5\"\n",
        "given_json_results = retrieve_processed_data(given_json_url)\n",
        "\n",
        "if processed_data is not None and given_json_results is not None:\n",
        "\n",
        "    for patient_number, expected_data in given_json_results.items():\n",
        "        if patient_number in processed_data:\n",
        "            if processed_data[patient_number] == expected_data:\n",
        "                print(f\"Patient {patient_number}: Results match expected output.\")\n",
        "            else:\n",
        "                print(f\"Patient {patient_number}: Results do not match expected output.\")\n",
        "        else:\n",
        "            print(f\"Patient {patient_number} not found in the processed data.\")\n",
        "\n",
        "    for patient_number in processed_data:\n",
        "        if patient_number not in given_json_results:\n",
        "            print(f\"Patient {patient_number} in processed data but not in expected results.\")\n",
        "\n",
        "    for patient_number in given_json_results:\n",
        "        if patient_number not in processed_data:\n",
        "            print(f\"Patient {patient_number} in expected results but not in processed data.\")\n",
        "else:\n",
        "    print(\"Failed to retrieve processed or expected data.\")"
      ]
    },
    {
      "cell_type": "markdown",
      "metadata": {
        "id": "Fw6xDh4sLRwr"
      },
      "source": [
        "---\n",
        "\n",
        "## Check your work above\n",
        "\n",
        "If you didn't get them all correct, take a few minutes to think through those that aren't correct.\n",
        "\n",
        "\n",
        "## Submitting Your Work\n",
        "\n",
        "Submit your work as usual into a folder named `midterm`"
      ]
    },
    {
      "cell_type": "markdown",
      "metadata": {
        "id": "k6EVlpDbLRws"
      },
      "source": [
        "---"
      ]
    }
  ],
  "metadata": {
    "kernelspec": {
      "display_name": "Python 3",
      "language": "python",
      "name": "python3"
    },
    "language_info": {
      "codemirror_mode": {
        "name": "ipython",
        "version": 3
      },
      "file_extension": ".py",
      "mimetype": "text/x-python",
      "name": "python",
      "nbconvert_exporter": "python",
      "pygments_lexer": "ipython3",
      "version": "3.9.6"
    },
    "colab": {
      "provenance": [],
      "include_colab_link": true
    }
  },
  "nbformat": 4,
  "nbformat_minor": 0
}