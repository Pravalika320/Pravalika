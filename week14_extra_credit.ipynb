{
  "cells": [
    {
      "cell_type": "markdown",
      "metadata": {
        "id": "view-in-github",
        "colab_type": "text"
      },
      "source": [
        "<a href=\"https://colab.research.google.com/github/Pravalika320/Pravalika/blob/main/week14_extra_credit.ipynb\" target=\"_parent\"><img src=\"https://colab.research.google.com/assets/colab-badge.svg\" alt=\"Open In Colab\"/></a>"
      ]
    },
    {
      "cell_type": "markdown",
      "metadata": {
        "id": "HH5khEa_O7_v"
      },
      "source": [
        "# Week 14 Extra Credit - How will ChatGPT do on your final project idea?\n",
        "\n",
        "This extra credit assignment is entirely optional.  You do not need to do it.\n",
        "\n",
        "If you would like the opportunity to earn up to 5 extra credit points, complete this assignment and submit it via GitHub as normal before Monday, November 27 at 11:59 PM CST.  No late submissions will be accepted.  The file must be saved to your week13 folder in GitHub."
      ]
    },
    {
      "cell_type": "markdown",
      "metadata": {
        "id": "vib4x1R3O7_w"
      },
      "source": [
        "## Part 1: Have a conversation with ChatGPT\n",
        "\n",
        "I want you to have a conversation with ChatGPT about your final project idea.  Find out what it thinks about your idea and if it has any data sources (URLs for specific sites) that could be helpful.  Below, either include copy/paste the chat history from your conversation or include a link to the shared chat.  (ChatGPT has an [option to share a link to a specific conversation](https://help.openai.com/en/articles/7925741-chatgpt-shared-links-faq).  It's the up-arrow icon in the upper-right corner of your chat window.)\n",
        "\n",
        "Take this conversationw with ChatGPT as far as you want, but at least ask three or four follow-up questions to refine the information you're getting back.\n",
        "\n",
        "If it starts giving you links to information, don't assume they're going to work. Remember that ChatGPT isn't perfect. So, follow the links and make sure there's information there that matches what ChatGPT says you will find."
      ]
    },
    {
      "cell_type": "markdown",
      "metadata": {
        "id": "oJ6FDeIlO7_w"
      },
      "source": [
        "**RESPONSE**\n",
        "\n",
        "*Enter your conversation or link to your chat here*::https://chatgpt.com/share/674d1ed4-4e7c-800d-a77f-529a0e47c575"
      ]
    },
    {
      "cell_type": "markdown",
      "metadata": {
        "id": "FdY9AHf4O7_w"
      },
      "source": [
        "### Part 2: Your reflection\n",
        "\n",
        "Below, tell me what you think ChatGPT did well or not well in your conversation.  Was it good at finding data that you needed?  Was it good at finding actual links that worked?  Did its responses make sense to you?  What did it do well / not well?\n",
        "\n",
        "Your response below should be several sentences.  If you don't have enough feedback, expand your conversation with ChatGPT.  Ask it refine your project idea or start writing code for you.  See what it can do."
      ]
    },
    {
      "cell_type": "markdown",
      "metadata": {
        "id": "J_QmuRdxO7_w"
      },
      "source": [
        "**RESPONSE**\n",
        "\n",
        "I received excellent resources and recommendations from ChatGPT for my study on \"The Impact of Socioeconomic Factors on Health Outcomes.\" It provided me with a number of helpful connections to reliable sites, such as the World Bank, CDC, and WHO, which will be very beneficial when looking for data. I liked that it also recommended tools like Looker Studio, R, and Python and described how to utilize them.\n",
        "\n",
        "I appreciated how it customized its recommendations to meet my project's needs, and the answers were understandable and concise. Nevertheless, it would have been even better if it had verified that the links were operational or explicitly said whether they were current. Although the recommendations were beneficial, I believe it might have taken a step further by providing a sample dataset or initiating some fundamental analysis to assist me in getting going.\n",
        "\n",
        "All things considered, ChatGPT was a fantastic tool to get my project started, but I would really like it to go farther, such as assisting me in honing my project question or perhaps generating some code to begin data analysis immediately.\n"
      ]
    },
    {
      "cell_type": "markdown",
      "metadata": {
        "id": "nQEJLh33O7_w"
      },
      "source": [
        "### Submitting\n",
        "\n",
        "Submit this as normal to GitHub with the name `week14/week14_extra_credit.ipynb`"
      ]
    },
    {
      "cell_type": "markdown",
      "metadata": {
        "id": "gusjoC_CO7_x"
      },
      "source": []
    }
  ],
  "metadata": {
    "language_info": {
      "name": "python"
    },
    "colab": {
      "provenance": [],
      "include_colab_link": true
    }
  },
  "nbformat": 4,
  "nbformat_minor": 0
}